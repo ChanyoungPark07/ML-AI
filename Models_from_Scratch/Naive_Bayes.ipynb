{
 "cells": [
  {
   "cell_type": "code",
   "execution_count": 1,
   "metadata": {
    "colab": {},
    "colab_type": "code",
    "id": "j4zcwLIJuG1O"
   },
   "outputs": [],
   "source": [
    "import numpy as np\n",
    "import pandas as pd"
   ]
  },
  {
   "cell_type": "markdown",
   "metadata": {
    "colab_type": "text",
    "id": "KDABJK5kuG1R"
   },
   "source": [
    "# Naive Bayes Classifier \n",
    "It is a conditional probability model, with formula: <br>\n",
    "$ P(C| x_1, x_2, x_3, ...) = \\frac{P(C)P(X|C)}{P(X)}$ <br>\n",
    "It is naive because we have naive assumption such that every pair of features are independent from each other given C.<br>\n",
    "So we can rewrite the formula as: <br>\n",
    "$ P(C| x_1, x_2, x_3, ...) = P(C)P(x_1|C)P(x_2|C)... = P(C)\\prod^{n}_{i=1} P(x_i|C)$"
   ]
  },
  {
   "cell_type": "code",
   "execution_count": 2,
   "metadata": {
    "colab": {},
    "colab_type": "code",
    "id": "_JUB-OvnuG1S"
   },
   "outputs": [],
   "source": [
    "class Naive_Bayes():\n",
    "    \"\"\"\n",
    "    Naive Bayes classifer\n",
    "    \n",
    "    Attributes:\n",
    "        prior: P(Y)\n",
    "        likelihood: P(X_j | Y)\n",
    "    \"\"\"\n",
    "    \n",
    "    def __init__(self):\n",
    "        \"\"\"\n",
    "        Some initializations, if neccesary\n",
    "        \"\"\"\n",
    "        self.model_name = 'Naive Bayes'\n",
    "    \n",
    "    def fit(self, X_train, y_train):\n",
    "        \"\"\" \n",
    "        The fit function fits the Naive Bayes model based on the training data. \n",
    "        Here, we assume that all the features are discrete features. \n",
    "        \n",
    "        X_train is a matrix or 2-D numpy array, represnting training instances. \n",
    "        Each training instance is a feature vector. \n",
    "\n",
    "        y_train contains the corresponding labels. There might be multiple (i.e., > 2) classes.\n",
    "\n",
    "        TODO: 1. Modify and add some codes to the following for-loop\n",
    "                 to compute the correct prior distribution of all y labels.\n",
    "              2. Make sure they are normalized to a distribution.\n",
    "        \"\"\"\n",
    "        self.prior = dict()\n",
    "        self.class_count = dict()\n",
    "        \n",
    "        for y in y_train:\n",
    "            if f'Y = {y}' not in self.prior:\n",
    "                self.prior[f'Y = {y}'] = 1\n",
    "                self.class_count[f'Y = {y}'] = 1\n",
    "            else:\n",
    "                self.prior[f'Y = {y}'] += 1\n",
    "                self.class_count[f'Y = {y}'] += 1\n",
    "\n",
    "        for prior in self.prior:\n",
    "            self.prior[prior] = (self.prior[prior] + 1) / (len(y_train) + len(set(y_train)))\n",
    "            \n",
    "        \"\"\"\n",
    "        TODO: 3. Modify and add some codes to the following for-loops\n",
    "                 to compute the correct likelihood P(X_j | Y).\n",
    "              4. Make sure they are normalized to distributions.\n",
    "        \"\"\"\n",
    "        self.likelihood = dict()\n",
    "        X_train = np.asarray(X_train)\n",
    "        \n",
    "        for x, y in zip(X_train, y_train):\n",
    "            for j in range(len(x)):\n",
    "                if f'X{j} = {x[j]} | Y = {y}' not in self.likelihood:\n",
    "                    self.likelihood[f'X{j} = {x[j]} | Y = {y}'] = 2\n",
    "                else:\n",
    "                    self.likelihood[f'X{j} = {x[j]} | Y = {y}'] += 1\n",
    "        \n",
    "        \"\"\"\n",
    "        TODO: 5. Think about whether we really need P(X_1 = x_1, X_2 = x_2, ..., X_d = x_d)\n",
    "                 in practice?\n",
    "              6. Does this really matter for the final classification results?\n",
    "        \"\"\"\n",
    "        \n",
    "    def ind_predict(self, x: list):\n",
    "        \"\"\" \n",
    "        Predict the most likely class label of one test instance based on its feature vector x.\n",
    " \n",
    "        TODO: 7. Enumerate all possible class labels and compute the likelihood \n",
    "                 based on the given feature vector x. Don't forget to incorporate \n",
    "                 both the prior and likelihood.\n",
    "              8. Pick the label with the higest probability. \n",
    "              9. How to deal with very small probability values, especially\n",
    "                 when the feature vector is of a high dimension. (Hint: log)\n",
    "              10. How to how to deal with unknown feature values?\n",
    "        \"\"\"\n",
    "        \n",
    "        ret, max_prob = None, float('-inf')\n",
    "        for y in self.prior:\n",
    "            prob = np.log(self.prior[y])\n",
    "            for j in range(len(x)):\n",
    "                key = f'X{j} = {x[j]} | {y}'\n",
    "                if key not in self.likelihood:\n",
    "                    denominator = self.class_count[y] + len(self.prior)\n",
    "                    prob += np.log(1 / denominator)\n",
    "                else:\n",
    "                    numerator = self.likelihood[key]\n",
    "                    denominator = self.class_count[y] + len(self.prior)\n",
    "                    prob += np.log(numerator / denominator)\n",
    "\n",
    "            if prob > max_prob:\n",
    "                max_prob = prob\n",
    "                ret = y[-1:]\n",
    "        return ret\n",
    "    \n",
    "    def predict(self, X):\n",
    "        \"\"\"\n",
    "        X is a matrix or 2-D numpy array, represnting testing instances. \n",
    "        Each testing instance is a feature vector. \n",
    "        \n",
    "        Return the predictions of all instances in a list.\n",
    "\n",
    "        TODO: 11. Revise the following for-loop to call ind_predict to get predictions.\n",
    "        \"\"\"                \n",
    "        ret = []\n",
    "        X = np.asarray(X)\n",
    "        \n",
    "        for x in X:\n",
    "            result = self.ind_predict(x)\n",
    "            ret.append(result)\n",
    "            \n",
    "        return ret"
   ]
  },
  {
   "cell_type": "code",
   "execution_count": 3,
   "metadata": {
    "colab": {},
    "colab_type": "code",
    "id": "0g4b0OM7uG1U"
   },
   "outputs": [],
   "source": [
    "url = 'https://archive.ics.uci.edu/ml/machine-learning-databases/balance-scale/balance-scale.data'\n",
    "col = ['class_name', 'left_weight', 'left_distance', 'right_weight', 'right_distance']\n",
    "data = pd.read_csv(url, delimiter = ',', names = col)"
   ]
  },
  {
   "cell_type": "code",
   "execution_count": 4,
   "metadata": {
    "colab": {},
    "colab_type": "code",
    "id": "Hq7_a9C0uG1W",
    "outputId": "9f21f418-fa7d-4a77-dfc0-186ec3424e61"
   },
   "outputs": [
    {
     "data": {
      "text/html": [
       "<div>\n",
       "<style scoped>\n",
       "    .dataframe tbody tr th:only-of-type {\n",
       "        vertical-align: middle;\n",
       "    }\n",
       "\n",
       "    .dataframe tbody tr th {\n",
       "        vertical-align: top;\n",
       "    }\n",
       "\n",
       "    .dataframe thead th {\n",
       "        text-align: right;\n",
       "    }\n",
       "</style>\n",
       "<table border=\"1\" class=\"dataframe\">\n",
       "  <thead>\n",
       "    <tr style=\"text-align: right;\">\n",
       "      <th></th>\n",
       "      <th>class_name</th>\n",
       "      <th>left_weight</th>\n",
       "      <th>left_distance</th>\n",
       "      <th>right_weight</th>\n",
       "      <th>right_distance</th>\n",
       "    </tr>\n",
       "  </thead>\n",
       "  <tbody>\n",
       "    <tr>\n",
       "      <th>0</th>\n",
       "      <td>B</td>\n",
       "      <td>1</td>\n",
       "      <td>1</td>\n",
       "      <td>1</td>\n",
       "      <td>1</td>\n",
       "    </tr>\n",
       "    <tr>\n",
       "      <th>1</th>\n",
       "      <td>R</td>\n",
       "      <td>1</td>\n",
       "      <td>1</td>\n",
       "      <td>1</td>\n",
       "      <td>2</td>\n",
       "    </tr>\n",
       "    <tr>\n",
       "      <th>2</th>\n",
       "      <td>R</td>\n",
       "      <td>1</td>\n",
       "      <td>1</td>\n",
       "      <td>1</td>\n",
       "      <td>3</td>\n",
       "    </tr>\n",
       "    <tr>\n",
       "      <th>3</th>\n",
       "      <td>R</td>\n",
       "      <td>1</td>\n",
       "      <td>1</td>\n",
       "      <td>1</td>\n",
       "      <td>4</td>\n",
       "    </tr>\n",
       "    <tr>\n",
       "      <th>4</th>\n",
       "      <td>R</td>\n",
       "      <td>1</td>\n",
       "      <td>1</td>\n",
       "      <td>1</td>\n",
       "      <td>5</td>\n",
       "    </tr>\n",
       "    <tr>\n",
       "      <th>...</th>\n",
       "      <td>...</td>\n",
       "      <td>...</td>\n",
       "      <td>...</td>\n",
       "      <td>...</td>\n",
       "      <td>...</td>\n",
       "    </tr>\n",
       "    <tr>\n",
       "      <th>620</th>\n",
       "      <td>L</td>\n",
       "      <td>5</td>\n",
       "      <td>5</td>\n",
       "      <td>5</td>\n",
       "      <td>1</td>\n",
       "    </tr>\n",
       "    <tr>\n",
       "      <th>621</th>\n",
       "      <td>L</td>\n",
       "      <td>5</td>\n",
       "      <td>5</td>\n",
       "      <td>5</td>\n",
       "      <td>2</td>\n",
       "    </tr>\n",
       "    <tr>\n",
       "      <th>622</th>\n",
       "      <td>L</td>\n",
       "      <td>5</td>\n",
       "      <td>5</td>\n",
       "      <td>5</td>\n",
       "      <td>3</td>\n",
       "    </tr>\n",
       "    <tr>\n",
       "      <th>623</th>\n",
       "      <td>L</td>\n",
       "      <td>5</td>\n",
       "      <td>5</td>\n",
       "      <td>5</td>\n",
       "      <td>4</td>\n",
       "    </tr>\n",
       "    <tr>\n",
       "      <th>624</th>\n",
       "      <td>B</td>\n",
       "      <td>5</td>\n",
       "      <td>5</td>\n",
       "      <td>5</td>\n",
       "      <td>5</td>\n",
       "    </tr>\n",
       "  </tbody>\n",
       "</table>\n",
       "<p>625 rows × 5 columns</p>\n",
       "</div>"
      ],
      "text/plain": [
       "    class_name  left_weight  left_distance  right_weight  right_distance\n",
       "0            B            1              1             1               1\n",
       "1            R            1              1             1               2\n",
       "2            R            1              1             1               3\n",
       "3            R            1              1             1               4\n",
       "4            R            1              1             1               5\n",
       "..         ...          ...            ...           ...             ...\n",
       "620          L            5              5             5               1\n",
       "621          L            5              5             5               2\n",
       "622          L            5              5             5               3\n",
       "623          L            5              5             5               4\n",
       "624          B            5              5             5               5\n",
       "\n",
       "[625 rows x 5 columns]"
      ]
     },
     "execution_count": 4,
     "metadata": {},
     "output_type": "execute_result"
    }
   ],
   "source": [
    "data"
   ]
  },
  {
   "cell_type": "code",
   "execution_count": 5,
   "metadata": {
    "colab": {},
    "colab_type": "code",
    "id": "ZAsYzCPzuG1Z",
    "outputId": "60ec9f98-d513-479d-a6cf-e65d50d2d3c0"
   },
   "outputs": [
    {
     "data": {
      "text/plain": [
       "class_name\n",
       "R    288\n",
       "L    288\n",
       "B     49\n",
       "Name: count, dtype: int64"
      ]
     },
     "execution_count": 5,
     "metadata": {},
     "output_type": "execute_result"
    }
   ],
   "source": [
    "data.class_name.value_counts()"
   ]
  },
  {
   "cell_type": "code",
   "execution_count": 6,
   "metadata": {
    "colab": {},
    "colab_type": "code",
    "id": "0JjkLsxGuG1e"
   },
   "outputs": [],
   "source": [
    "from sklearn.model_selection import train_test_split\n",
    "\n",
    "X = np.matrix(data.iloc[:,1:])\n",
    "y = data.class_name\n",
    "\n",
    "X_train, X_test, y_train, y_test = train_test_split(X, y, test_size=0.33,random_state=88)"
   ]
  },
  {
   "cell_type": "code",
   "execution_count": 7,
   "metadata": {},
   "outputs": [],
   "source": [
    "clf = Naive_Bayes()\n",
    "clf.fit(X_train, y_train)\n",
    "y_test = np.array(y_test)\n",
    "y_hat = clf.predict(X_test)"
   ]
  },
  {
   "cell_type": "code",
   "execution_count": 8,
   "metadata": {
    "colab": {},
    "colab_type": "code",
    "id": "MpfumdTCuG1i",
    "outputId": "6925cbf8-873b-49f0-80b2-754f569c3f8b"
   },
   "outputs": [
    {
     "data": {
      "text/plain": [
       "np.float64(0.8840579710144928)"
      ]
     },
     "execution_count": 8,
     "metadata": {},
     "output_type": "execute_result"
    }
   ],
   "source": [
    "# Overall Accuracy\n",
    "\n",
    "sum(y_hat == y_test) / 207  # you should get something like 0.88"
   ]
  }
 ],
 "metadata": {
  "colab": {
   "collapsed_sections": [],
   "name": "New_Naive_Bayes.ipynb",
   "provenance": []
  },
  "kernelspec": {
   "display_name": "Python 3 (ipykernel)",
   "language": "python",
   "name": "python3"
  },
  "language_info": {
   "codemirror_mode": {
    "name": "ipython",
    "version": 3
   },
   "file_extension": ".py",
   "mimetype": "text/x-python",
   "name": "python",
   "nbconvert_exporter": "python",
   "pygments_lexer": "ipython3",
   "version": "3.12.5"
  }
 },
 "nbformat": 4,
 "nbformat_minor": 4
}
